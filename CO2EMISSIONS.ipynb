{
 "cells": [
  {
   "cell_type": "code",
   "execution_count": 1,
   "id": "615cbe12-e8f5-453c-a393-e6dbdabf32c2",
   "metadata": {},
   "outputs": [
    {
     "name": "stderr",
     "output_type": "stream",
     "text": [
      "/home/sandip/.local/lib/python3.10/site-packages/xgboost/compat.py:31: FutureWarning: pandas.Int64Index is deprecated and will be removed from pandas in a future version. Use pandas.Index with the appropriate dtype instead.\n",
      "  from pandas import MultiIndex, Int64Index\n"
     ]
    }
   ],
   "source": [
    "import numpy as np\n",
    "import pandas as pd\n",
    "from sklearn.preprocessing import LabelEncoder\n",
    "from sklearn.metrics import accuracy_score\n",
    "from sklearn.model_selection import train_test_split\n",
    "from sklearn.linear_model import LinearRegression\n",
    "from xgboost import XGBRegressor\n",
    "from sklearn.tree import DecisionTreeRegressor\n",
    "from sklearn.ensemble import RandomForestRegressor\n",
    "import warnings\n",
    "warnings.simplefilter('ignore')"
   ]
  },
  {
   "cell_type": "code",
   "execution_count": 2,
   "id": "11b5ee8a-dbe0-4344-8beb-64745262cbf5",
   "metadata": {},
   "outputs": [],
   "source": [
    "data=pd.read_csv('training_data.csv')\n"
   ]
  },
  {
   "cell_type": "code",
   "execution_count": 3,
   "id": "67a941fe-0710-4b24-8bcf-5a24336879d2",
   "metadata": {},
   "outputs": [
    {
     "name": "stdout",
     "output_type": "stream",
     "text": [
      "train data= (759, 13)\n"
     ]
    }
   ],
   "source": [
    "print(\"train data=\",data.shape)"
   ]
  },
  {
   "cell_type": "code",
   "execution_count": 4,
   "id": "c6e21dd1-881d-4aa3-83bd-80a877555c57",
   "metadata": {},
   "outputs": [
    {
     "data": {
      "text/plain": [
       "MODELYEAR                   0\n",
       "MAKE                        0\n",
       "MODEL                       0\n",
       "VEHICLECLASS                0\n",
       "ENGINESIZE                  0\n",
       "CYLINDERS                   0\n",
       "TRANSMISSION                0\n",
       "FUELTYPE                    0\n",
       "FUELCONSUMPTION_CITY        0\n",
       "FUELCONSUMPTION_HWY         0\n",
       "FUELCONSUMPTION_COMB        0\n",
       "FUELCONSUMPTION_COMB_MPG    0\n",
       "CO2EMISSIONS                0\n",
       "dtype: int64"
      ]
     },
     "execution_count": 4,
     "metadata": {},
     "output_type": "execute_result"
    }
   ],
   "source": [
    "data.isnull().sum()"
   ]
  },
  {
   "cell_type": "code",
   "execution_count": 5,
   "id": "df1fb8bb-f3e3-45b1-b131-60d64a978a58",
   "metadata": {},
   "outputs": [
    {
     "name": "stdout",
     "output_type": "stream",
     "text": [
      "<class 'pandas.core.frame.DataFrame'>\n",
      "RangeIndex: 759 entries, 0 to 758\n",
      "Data columns (total 13 columns):\n",
      " #   Column                    Non-Null Count  Dtype  \n",
      "---  ------                    --------------  -----  \n",
      " 0   MODELYEAR                 759 non-null    int64  \n",
      " 1   MAKE                      759 non-null    object \n",
      " 2   MODEL                     759 non-null    object \n",
      " 3   VEHICLECLASS              759 non-null    object \n",
      " 4   ENGINESIZE                759 non-null    float64\n",
      " 5   CYLINDERS                 759 non-null    int64  \n",
      " 6   TRANSMISSION              759 non-null    object \n",
      " 7   FUELTYPE                  759 non-null    object \n",
      " 8   FUELCONSUMPTION_CITY      759 non-null    float64\n",
      " 9   FUELCONSUMPTION_HWY       759 non-null    float64\n",
      " 10  FUELCONSUMPTION_COMB      759 non-null    float64\n",
      " 11  FUELCONSUMPTION_COMB_MPG  759 non-null    int64  \n",
      " 12  CO2EMISSIONS              759 non-null    int64  \n",
      "dtypes: float64(4), int64(4), object(5)\n",
      "memory usage: 77.2+ KB\n"
     ]
    }
   ],
   "source": [
    "data.info()"
   ]
  },
  {
   "cell_type": "code",
   "execution_count": 6,
   "id": "5ab2cde9-f911-45ef-bd79-e4d2bbc7e3e1",
   "metadata": {},
   "outputs": [
    {
     "data": {
      "text/html": [
       "<div>\n",
       "<style scoped>\n",
       "    .dataframe tbody tr th:only-of-type {\n",
       "        vertical-align: middle;\n",
       "    }\n",
       "\n",
       "    .dataframe tbody tr th {\n",
       "        vertical-align: top;\n",
       "    }\n",
       "\n",
       "    .dataframe thead th {\n",
       "        text-align: right;\n",
       "    }\n",
       "</style>\n",
       "<table border=\"1\" class=\"dataframe\">\n",
       "  <thead>\n",
       "    <tr style=\"text-align: right;\">\n",
       "      <th></th>\n",
       "      <th>MODELYEAR</th>\n",
       "      <th>ENGINESIZE</th>\n",
       "      <th>CYLINDERS</th>\n",
       "      <th>FUELCONSUMPTION_CITY</th>\n",
       "      <th>FUELCONSUMPTION_HWY</th>\n",
       "      <th>FUELCONSUMPTION_COMB</th>\n",
       "      <th>FUELCONSUMPTION_COMB_MPG</th>\n",
       "      <th>CO2EMISSIONS</th>\n",
       "    </tr>\n",
       "  </thead>\n",
       "  <tbody>\n",
       "    <tr>\n",
       "      <th>count</th>\n",
       "      <td>759.0</td>\n",
       "      <td>759.000000</td>\n",
       "      <td>759.000000</td>\n",
       "      <td>759.000000</td>\n",
       "      <td>759.000000</td>\n",
       "      <td>759.000000</td>\n",
       "      <td>759.000000</td>\n",
       "      <td>759.000000</td>\n",
       "    </tr>\n",
       "    <tr>\n",
       "      <th>mean</th>\n",
       "      <td>2011.0</td>\n",
       "      <td>3.585112</td>\n",
       "      <td>6.068511</td>\n",
       "      <td>14.265876</td>\n",
       "      <td>10.206456</td>\n",
       "      <td>12.439526</td>\n",
       "      <td>24.405797</td>\n",
       "      <td>274.314888</td>\n",
       "    </tr>\n",
       "    <tr>\n",
       "      <th>std</th>\n",
       "      <td>0.0</td>\n",
       "      <td>1.383097</td>\n",
       "      <td>1.923483</td>\n",
       "      <td>4.140030</td>\n",
       "      <td>2.801196</td>\n",
       "      <td>3.511612</td>\n",
       "      <td>6.506848</td>\n",
       "      <td>63.647630</td>\n",
       "    </tr>\n",
       "    <tr>\n",
       "      <th>min</th>\n",
       "      <td>2011.0</td>\n",
       "      <td>1.000000</td>\n",
       "      <td>2.000000</td>\n",
       "      <td>4.700000</td>\n",
       "      <td>4.900000</td>\n",
       "      <td>4.800000</td>\n",
       "      <td>11.000000</td>\n",
       "      <td>110.000000</td>\n",
       "    </tr>\n",
       "    <tr>\n",
       "      <th>25%</th>\n",
       "      <td>2011.0</td>\n",
       "      <td>2.400000</td>\n",
       "      <td>4.000000</td>\n",
       "      <td>11.500000</td>\n",
       "      <td>8.300000</td>\n",
       "      <td>10.100000</td>\n",
       "      <td>20.000000</td>\n",
       "      <td>230.000000</td>\n",
       "    </tr>\n",
       "    <tr>\n",
       "      <th>50%</th>\n",
       "      <td>2011.0</td>\n",
       "      <td>3.500000</td>\n",
       "      <td>6.000000</td>\n",
       "      <td>13.400000</td>\n",
       "      <td>9.500000</td>\n",
       "      <td>11.600000</td>\n",
       "      <td>24.000000</td>\n",
       "      <td>265.000000</td>\n",
       "    </tr>\n",
       "    <tr>\n",
       "      <th>75%</th>\n",
       "      <td>2011.0</td>\n",
       "      <td>4.700000</td>\n",
       "      <td>8.000000</td>\n",
       "      <td>16.200000</td>\n",
       "      <td>11.500000</td>\n",
       "      <td>14.100000</td>\n",
       "      <td>28.000000</td>\n",
       "      <td>313.000000</td>\n",
       "    </tr>\n",
       "    <tr>\n",
       "      <th>max</th>\n",
       "      <td>2011.0</td>\n",
       "      <td>8.000000</td>\n",
       "      <td>16.000000</td>\n",
       "      <td>30.300000</td>\n",
       "      <td>20.400000</td>\n",
       "      <td>25.800000</td>\n",
       "      <td>59.000000</td>\n",
       "      <td>547.000000</td>\n",
       "    </tr>\n",
       "  </tbody>\n",
       "</table>\n",
       "</div>"
      ],
      "text/plain": [
       "       MODELYEAR  ENGINESIZE   CYLINDERS  FUELCONSUMPTION_CITY  \\\n",
       "count      759.0  759.000000  759.000000            759.000000   \n",
       "mean      2011.0    3.585112    6.068511             14.265876   \n",
       "std          0.0    1.383097    1.923483              4.140030   \n",
       "min       2011.0    1.000000    2.000000              4.700000   \n",
       "25%       2011.0    2.400000    4.000000             11.500000   \n",
       "50%       2011.0    3.500000    6.000000             13.400000   \n",
       "75%       2011.0    4.700000    8.000000             16.200000   \n",
       "max       2011.0    8.000000   16.000000             30.300000   \n",
       "\n",
       "       FUELCONSUMPTION_HWY  FUELCONSUMPTION_COMB  FUELCONSUMPTION_COMB_MPG  \\\n",
       "count           759.000000            759.000000                759.000000   \n",
       "mean             10.206456             12.439526                 24.405797   \n",
       "std               2.801196              3.511612                  6.506848   \n",
       "min               4.900000              4.800000                 11.000000   \n",
       "25%               8.300000             10.100000                 20.000000   \n",
       "50%               9.500000             11.600000                 24.000000   \n",
       "75%              11.500000             14.100000                 28.000000   \n",
       "max              20.400000             25.800000                 59.000000   \n",
       "\n",
       "       CO2EMISSIONS  \n",
       "count    759.000000  \n",
       "mean     274.314888  \n",
       "std       63.647630  \n",
       "min      110.000000  \n",
       "25%      230.000000  \n",
       "50%      265.000000  \n",
       "75%      313.000000  \n",
       "max      547.000000  "
      ]
     },
     "execution_count": 6,
     "metadata": {},
     "output_type": "execute_result"
    }
   ],
   "source": [
    "data.describe()"
   ]
  },
  {
   "cell_type": "code",
   "execution_count": 7,
   "id": "b0c383ee-ad79-4ef1-8360-c7ead4303b95",
   "metadata": {},
   "outputs": [
    {
     "data": {
      "text/plain": [
       "Index(['MODELYEAR', 'MAKE', 'MODEL', 'VEHICLECLASS', 'ENGINESIZE', 'CYLINDERS',\n",
       "       'TRANSMISSION', 'FUELTYPE', 'FUELCONSUMPTION_CITY',\n",
       "       'FUELCONSUMPTION_HWY', 'FUELCONSUMPTION_COMB',\n",
       "       'FUELCONSUMPTION_COMB_MPG', 'CO2EMISSIONS'],\n",
       "      dtype='object')"
      ]
     },
     "execution_count": 7,
     "metadata": {},
     "output_type": "execute_result"
    }
   ],
   "source": [
    "data.columns"
   ]
  },
  {
   "cell_type": "code",
   "execution_count": 8,
   "id": "7ff4b352-896a-41d5-a6d2-ef71723bcf7a",
   "metadata": {},
   "outputs": [],
   "source": [
    "obj_col=data.select_dtypes('object')\n",
    "lr=LabelEncoder()"
   ]
  },
  {
   "cell_type": "code",
   "execution_count": 9,
   "id": "4a7fa8f2-b259-4bd9-9da8-3c86ab75173a",
   "metadata": {},
   "outputs": [],
   "source": [
    "for i in obj_col:\n",
    "    data[i]=lr.fit_transform(data[i])"
   ]
  },
  {
   "cell_type": "code",
   "execution_count": 10,
   "id": "da156e3e-b844-44fc-893d-3cfdde07207a",
   "metadata": {},
   "outputs": [],
   "source": [
    "x=data.drop(columns=\"CO2EMISSIONS\",axis=1)\n",
    "y=data['CO2EMISSIONS']"
   ]
  },
  {
   "cell_type": "code",
   "execution_count": 11,
   "id": "aa010cfe-1dd5-40bd-bc8f-2b0c2190f020",
   "metadata": {},
   "outputs": [],
   "source": [
    "x_train,x_test,y_train,y_test=train_test_split(x,y,random_state=1,test_size=0.1)"
   ]
  },
  {
   "cell_type": "code",
   "execution_count": 13,
   "id": "632c1ff3-0e61-4ada-9820-6f929f610836",
   "metadata": {},
   "outputs": [],
   "source": [
    "def mo(objec):\n",
    "    for i in objec:\n",
    "        model=i\n",
    "        model.fit(x_train,y_train)\n",
    "        sc=model.score(x_test,y_test)\n",
    "        print(f\"Score of{i}={sc}\")"
   ]
  },
  {
   "cell_type": "code",
   "execution_count": 14,
   "id": "3d15976a-704c-4d9e-a553-b56a700ff955",
   "metadata": {},
   "outputs": [],
   "source": [
    "mod=[LinearRegression(),XGBRegressor(),RandomForestRegressor(),DecisionTreeRegressor()]"
   ]
  },
  {
   "cell_type": "code",
   "execution_count": 15,
   "id": "78c5013f-ebad-4909-8cf7-1d7c55d07e66",
   "metadata": {},
   "outputs": [
    {
     "name": "stdout",
     "output_type": "stream",
     "text": [
      "Score ofLinearRegression()=0.9095399193901725\n",
      "Score ofXGBRegressor(base_score=0.5, booster='gbtree', colsample_bylevel=1,\n",
      "             colsample_bynode=1, colsample_bytree=1, gamma=0, gpu_id=-1,\n",
      "             importance_type='gain', interaction_constraints='',\n",
      "             learning_rate=0.300000012, max_delta_step=0, max_depth=6,\n",
      "             min_child_weight=1, missing=nan, monotone_constraints='()',\n",
      "             n_estimators=100, n_jobs=4, num_parallel_tree=1, random_state=0,\n",
      "             reg_alpha=0, reg_lambda=1, scale_pos_weight=1, subsample=1,\n",
      "             tree_method='exact', validate_parameters=1, verbosity=None)=0.9965508248505285\n",
      "Score ofRandomForestRegressor()=0.9973630401712779\n",
      "Score ofDecisionTreeRegressor()=0.9980078018090964\n"
     ]
    }
   ],
   "source": [
    "mo(mod)"
   ]
  },
  {
   "cell_type": "code",
   "execution_count": 16,
   "id": "72806da0-d859-4aaa-8c4f-bdc467b03c90",
   "metadata": {},
   "outputs": [],
   "source": [
    "test=pd.read_csv('testing_data.csv')"
   ]
  },
  {
   "cell_type": "code",
   "execution_count": 17,
   "id": "01d7d9f3",
   "metadata": {},
   "outputs": [],
   "source": [
    "obj_col=test.select_dtypes('object')"
   ]
  },
  {
   "cell_type": "code",
   "execution_count": 18,
   "id": "fe9ec61d",
   "metadata": {},
   "outputs": [],
   "source": [
    "for i in obj_col:\n",
    "    test[i]=lr.fit_transform(test[i])"
   ]
  },
  {
   "cell_type": "code",
   "execution_count": 19,
   "id": "2a67f8ec",
   "metadata": {},
   "outputs": [],
   "source": [
    "dr=DecisionTreeRegressor()\n",
    "dr.fit(x_train,y_train)\n",
    "predict=dr.predict(test)"
   ]
  },
  {
   "cell_type": "code",
   "execution_count": 20,
   "id": "e42b2d66",
   "metadata": {},
   "outputs": [],
   "source": [
    "test['CO2EMISSIONS']=predict"
   ]
  },
  {
   "cell_type": "code",
   "execution_count": 21,
   "id": "99317483",
   "metadata": {},
   "outputs": [],
   "source": [
    "test.to_csv('final_test.csv',index=False)"
   ]
  },
  {
   "cell_type": "code",
   "execution_count": 22,
   "id": "a2703022",
   "metadata": {},
   "outputs": [
    {
     "data": {
      "text/html": [
       "<div>\n",
       "<style scoped>\n",
       "    .dataframe tbody tr th:only-of-type {\n",
       "        vertical-align: middle;\n",
       "    }\n",
       "\n",
       "    .dataframe tbody tr th {\n",
       "        vertical-align: top;\n",
       "    }\n",
       "\n",
       "    .dataframe thead th {\n",
       "        text-align: right;\n",
       "    }\n",
       "</style>\n",
       "<table border=\"1\" class=\"dataframe\">\n",
       "  <thead>\n",
       "    <tr style=\"text-align: right;\">\n",
       "      <th></th>\n",
       "      <th>MODELYEAR</th>\n",
       "      <th>MAKE</th>\n",
       "      <th>MODEL</th>\n",
       "      <th>VEHICLECLASS</th>\n",
       "      <th>ENGINESIZE</th>\n",
       "      <th>CYLINDERS</th>\n",
       "      <th>TRANSMISSION</th>\n",
       "      <th>FUELTYPE</th>\n",
       "      <th>FUELCONSUMPTION_CITY</th>\n",
       "      <th>FUELCONSUMPTION_HWY</th>\n",
       "      <th>FUELCONSUMPTION_COMB</th>\n",
       "      <th>FUELCONSUMPTION_COMB_MPG</th>\n",
       "      <th>CO2EMISSIONS</th>\n",
       "    </tr>\n",
       "  </thead>\n",
       "  <tbody>\n",
       "    <tr>\n",
       "      <th>0</th>\n",
       "      <td>2011</td>\n",
       "      <td>11</td>\n",
       "      <td>183</td>\n",
       "      <td>10</td>\n",
       "      <td>3.5</td>\n",
       "      <td>6</td>\n",
       "      <td>1</td>\n",
       "      <td>2</td>\n",
       "      <td>14.7</td>\n",
       "      <td>10.7</td>\n",
       "      <td>12.9</td>\n",
       "      <td>22</td>\n",
       "      <td>297.0</td>\n",
       "    </tr>\n",
       "    <tr>\n",
       "      <th>1</th>\n",
       "      <td>2011</td>\n",
       "      <td>5</td>\n",
       "      <td>77</td>\n",
       "      <td>2</td>\n",
       "      <td>3.6</td>\n",
       "      <td>6</td>\n",
       "      <td>9</td>\n",
       "      <td>2</td>\n",
       "      <td>13.2</td>\n",
       "      <td>8.8</td>\n",
       "      <td>11.2</td>\n",
       "      <td>25</td>\n",
       "      <td>258.0</td>\n",
       "    </tr>\n",
       "    <tr>\n",
       "      <th>2</th>\n",
       "      <td>2011</td>\n",
       "      <td>8</td>\n",
       "      <td>150</td>\n",
       "      <td>10</td>\n",
       "      <td>3.6</td>\n",
       "      <td>6</td>\n",
       "      <td>9</td>\n",
       "      <td>2</td>\n",
       "      <td>14.6</td>\n",
       "      <td>9.9</td>\n",
       "      <td>12.5</td>\n",
       "      <td>23</td>\n",
       "      <td>288.0</td>\n",
       "    </tr>\n",
       "    <tr>\n",
       "      <th>3</th>\n",
       "      <td>2011</td>\n",
       "      <td>3</td>\n",
       "      <td>6</td>\n",
       "      <td>0</td>\n",
       "      <td>2.5</td>\n",
       "      <td>6</td>\n",
       "      <td>14</td>\n",
       "      <td>3</td>\n",
       "      <td>12.6</td>\n",
       "      <td>8.2</td>\n",
       "      <td>10.6</td>\n",
       "      <td>27</td>\n",
       "      <td>244.0</td>\n",
       "    </tr>\n",
       "    <tr>\n",
       "      <th>4</th>\n",
       "      <td>2011</td>\n",
       "      <td>10</td>\n",
       "      <td>263</td>\n",
       "      <td>10</td>\n",
       "      <td>5.3</td>\n",
       "      <td>8</td>\n",
       "      <td>2</td>\n",
       "      <td>1</td>\n",
       "      <td>21.5</td>\n",
       "      <td>14.7</td>\n",
       "      <td>18.5</td>\n",
       "      <td>15</td>\n",
       "      <td>293.0</td>\n",
       "    </tr>\n",
       "    <tr>\n",
       "      <th>...</th>\n",
       "      <td>...</td>\n",
       "      <td>...</td>\n",
       "      <td>...</td>\n",
       "      <td>...</td>\n",
       "      <td>...</td>\n",
       "      <td>...</td>\n",
       "      <td>...</td>\n",
       "      <td>...</td>\n",
       "      <td>...</td>\n",
       "      <td>...</td>\n",
       "      <td>...</td>\n",
       "      <td>...</td>\n",
       "      <td>...</td>\n",
       "    </tr>\n",
       "    <tr>\n",
       "      <th>321</th>\n",
       "      <td>2011</td>\n",
       "      <td>26</td>\n",
       "      <td>135</td>\n",
       "      <td>9</td>\n",
       "      <td>3.8</td>\n",
       "      <td>6</td>\n",
       "      <td>5</td>\n",
       "      <td>3</td>\n",
       "      <td>15.5</td>\n",
       "      <td>11.2</td>\n",
       "      <td>13.6</td>\n",
       "      <td>21</td>\n",
       "      <td>315.0</td>\n",
       "    </tr>\n",
       "    <tr>\n",
       "      <th>322</th>\n",
       "      <td>2011</td>\n",
       "      <td>23</td>\n",
       "      <td>224</td>\n",
       "      <td>11</td>\n",
       "      <td>6.2</td>\n",
       "      <td>8</td>\n",
       "      <td>10</td>\n",
       "      <td>3</td>\n",
       "      <td>17.3</td>\n",
       "      <td>12.1</td>\n",
       "      <td>15.0</td>\n",
       "      <td>19</td>\n",
       "      <td>345.0</td>\n",
       "    </tr>\n",
       "    <tr>\n",
       "      <th>323</th>\n",
       "      <td>2011</td>\n",
       "      <td>31</td>\n",
       "      <td>146</td>\n",
       "      <td>0</td>\n",
       "      <td>2.0</td>\n",
       "      <td>4</td>\n",
       "      <td>9</td>\n",
       "      <td>2</td>\n",
       "      <td>10.6</td>\n",
       "      <td>8.0</td>\n",
       "      <td>9.5</td>\n",
       "      <td>30</td>\n",
       "      <td>219.0</td>\n",
       "    </tr>\n",
       "    <tr>\n",
       "      <th>324</th>\n",
       "      <td>2011</td>\n",
       "      <td>28</td>\n",
       "      <td>142</td>\n",
       "      <td>8</td>\n",
       "      <td>2.5</td>\n",
       "      <td>4</td>\n",
       "      <td>13</td>\n",
       "      <td>2</td>\n",
       "      <td>12.2</td>\n",
       "      <td>8.8</td>\n",
       "      <td>10.7</td>\n",
       "      <td>26</td>\n",
       "      <td>246.0</td>\n",
       "    </tr>\n",
       "    <tr>\n",
       "      <th>325</th>\n",
       "      <td>2011</td>\n",
       "      <td>1</td>\n",
       "      <td>185</td>\n",
       "      <td>10</td>\n",
       "      <td>3.0</td>\n",
       "      <td>6</td>\n",
       "      <td>11</td>\n",
       "      <td>0</td>\n",
       "      <td>13.8</td>\n",
       "      <td>9.8</td>\n",
       "      <td>11.7</td>\n",
       "      <td>24</td>\n",
       "      <td>311.0</td>\n",
       "    </tr>\n",
       "  </tbody>\n",
       "</table>\n",
       "<p>326 rows × 13 columns</p>\n",
       "</div>"
      ],
      "text/plain": [
       "     MODELYEAR  MAKE  MODEL  VEHICLECLASS  ENGINESIZE  CYLINDERS  \\\n",
       "0         2011    11    183            10         3.5          6   \n",
       "1         2011     5     77             2         3.6          6   \n",
       "2         2011     8    150            10         3.6          6   \n",
       "3         2011     3      6             0         2.5          6   \n",
       "4         2011    10    263            10         5.3          8   \n",
       "..         ...   ...    ...           ...         ...        ...   \n",
       "321       2011    26    135             9         3.8          6   \n",
       "322       2011    23    224            11         6.2          8   \n",
       "323       2011    31    146             0         2.0          4   \n",
       "324       2011    28    142             8         2.5          4   \n",
       "325       2011     1    185            10         3.0          6   \n",
       "\n",
       "     TRANSMISSION  FUELTYPE  FUELCONSUMPTION_CITY  FUELCONSUMPTION_HWY  \\\n",
       "0               1         2                  14.7                 10.7   \n",
       "1               9         2                  13.2                  8.8   \n",
       "2               9         2                  14.6                  9.9   \n",
       "3              14         3                  12.6                  8.2   \n",
       "4               2         1                  21.5                 14.7   \n",
       "..            ...       ...                   ...                  ...   \n",
       "321             5         3                  15.5                 11.2   \n",
       "322            10         3                  17.3                 12.1   \n",
       "323             9         2                  10.6                  8.0   \n",
       "324            13         2                  12.2                  8.8   \n",
       "325            11         0                  13.8                  9.8   \n",
       "\n",
       "     FUELCONSUMPTION_COMB  FUELCONSUMPTION_COMB_MPG  CO2EMISSIONS  \n",
       "0                    12.9                        22         297.0  \n",
       "1                    11.2                        25         258.0  \n",
       "2                    12.5                        23         288.0  \n",
       "3                    10.6                        27         244.0  \n",
       "4                    18.5                        15         293.0  \n",
       "..                    ...                       ...           ...  \n",
       "321                  13.6                        21         315.0  \n",
       "322                  15.0                        19         345.0  \n",
       "323                   9.5                        30         219.0  \n",
       "324                  10.7                        26         246.0  \n",
       "325                  11.7                        24         311.0  \n",
       "\n",
       "[326 rows x 13 columns]"
      ]
     },
     "execution_count": 22,
     "metadata": {},
     "output_type": "execute_result"
    }
   ],
   "source": [
    "a=pd.read_csv('final_test.csv')\n",
    "b=pd.read_csv('training_data.csv')\n",
    "obj_col=b.select_dtypes('object')\n",
    "a"
   ]
  },
  {
   "cell_type": "code",
   "execution_count": 23,
   "id": "48cf0bae",
   "metadata": {},
   "outputs": [],
   "source": [
    "for i in obj_col:\n",
    "    b[i]=lr.fit_transform(b[i])\n",
    "x_train=b.drop(columns=\"CO2EMISSIONS\",axis=1)\n",
    "y_train=b['CO2EMISSIONS']\n",
    "x_test1=a.drop(columns=[\"CO2EMISSIONS\"],axis=1)\n",
    "y_test=a['CO2EMISSIONS']"
   ]
  },
  {
   "cell_type": "code",
   "execution_count": 24,
   "id": "2aa98384",
   "metadata": {},
   "outputs": [
    {
     "data": {
      "text/html": [
       "<style>#sk-container-id-1 {color: black;background-color: white;}#sk-container-id-1 pre{padding: 0;}#sk-container-id-1 div.sk-toggleable {background-color: white;}#sk-container-id-1 label.sk-toggleable__label {cursor: pointer;display: block;width: 100%;margin-bottom: 0;padding: 0.3em;box-sizing: border-box;text-align: center;}#sk-container-id-1 label.sk-toggleable__label-arrow:before {content: \"▸\";float: left;margin-right: 0.25em;color: #696969;}#sk-container-id-1 label.sk-toggleable__label-arrow:hover:before {color: black;}#sk-container-id-1 div.sk-estimator:hover label.sk-toggleable__label-arrow:before {color: black;}#sk-container-id-1 div.sk-toggleable__content {max-height: 0;max-width: 0;overflow: hidden;text-align: left;background-color: #f0f8ff;}#sk-container-id-1 div.sk-toggleable__content pre {margin: 0.2em;color: black;border-radius: 0.25em;background-color: #f0f8ff;}#sk-container-id-1 input.sk-toggleable__control:checked~div.sk-toggleable__content {max-height: 200px;max-width: 100%;overflow: auto;}#sk-container-id-1 input.sk-toggleable__control:checked~label.sk-toggleable__label-arrow:before {content: \"▾\";}#sk-container-id-1 div.sk-estimator input.sk-toggleable__control:checked~label.sk-toggleable__label {background-color: #d4ebff;}#sk-container-id-1 div.sk-label input.sk-toggleable__control:checked~label.sk-toggleable__label {background-color: #d4ebff;}#sk-container-id-1 input.sk-hidden--visually {border: 0;clip: rect(1px 1px 1px 1px);clip: rect(1px, 1px, 1px, 1px);height: 1px;margin: -1px;overflow: hidden;padding: 0;position: absolute;width: 1px;}#sk-container-id-1 div.sk-estimator {font-family: monospace;background-color: #f0f8ff;border: 1px dotted black;border-radius: 0.25em;box-sizing: border-box;margin-bottom: 0.5em;}#sk-container-id-1 div.sk-estimator:hover {background-color: #d4ebff;}#sk-container-id-1 div.sk-parallel-item::after {content: \"\";width: 100%;border-bottom: 1px solid gray;flex-grow: 1;}#sk-container-id-1 div.sk-label:hover label.sk-toggleable__label {background-color: #d4ebff;}#sk-container-id-1 div.sk-serial::before {content: \"\";position: absolute;border-left: 1px solid gray;box-sizing: border-box;top: 0;bottom: 0;left: 50%;z-index: 0;}#sk-container-id-1 div.sk-serial {display: flex;flex-direction: column;align-items: center;background-color: white;padding-right: 0.2em;padding-left: 0.2em;position: relative;}#sk-container-id-1 div.sk-item {position: relative;z-index: 1;}#sk-container-id-1 div.sk-parallel {display: flex;align-items: stretch;justify-content: center;background-color: white;position: relative;}#sk-container-id-1 div.sk-item::before, #sk-container-id-1 div.sk-parallel-item::before {content: \"\";position: absolute;border-left: 1px solid gray;box-sizing: border-box;top: 0;bottom: 0;left: 50%;z-index: -1;}#sk-container-id-1 div.sk-parallel-item {display: flex;flex-direction: column;z-index: 1;position: relative;background-color: white;}#sk-container-id-1 div.sk-parallel-item:first-child::after {align-self: flex-end;width: 50%;}#sk-container-id-1 div.sk-parallel-item:last-child::after {align-self: flex-start;width: 50%;}#sk-container-id-1 div.sk-parallel-item:only-child::after {width: 0;}#sk-container-id-1 div.sk-dashed-wrapped {border: 1px dashed gray;margin: 0 0.4em 0.5em 0.4em;box-sizing: border-box;padding-bottom: 0.4em;background-color: white;}#sk-container-id-1 div.sk-label label {font-family: monospace;font-weight: bold;display: inline-block;line-height: 1.2em;}#sk-container-id-1 div.sk-label-container {text-align: center;}#sk-container-id-1 div.sk-container {/* jupyter's `normalize.less` sets `[hidden] { display: none; }` but bootstrap.min.css set `[hidden] { display: none !important; }` so we also need the `!important` here to be able to override the default hidden behavior on the sphinx rendered scikit-learn.org. See: https://github.com/scikit-learn/scikit-learn/issues/21755 */display: inline-block !important;position: relative;}#sk-container-id-1 div.sk-text-repr-fallback {display: none;}</style><div id=\"sk-container-id-1\" class=\"sk-top-container\"><div class=\"sk-text-repr-fallback\"><pre>DecisionTreeRegressor()</pre><b>In a Jupyter environment, please rerun this cell to show the HTML representation or trust the notebook. <br />On GitHub, the HTML representation is unable to render, please try loading this page with nbviewer.org.</b></div><div class=\"sk-container\" hidden><div class=\"sk-item\"><div class=\"sk-estimator sk-toggleable\"><input class=\"sk-toggleable__control sk-hidden--visually\" id=\"sk-estimator-id-1\" type=\"checkbox\" checked><label for=\"sk-estimator-id-1\" class=\"sk-toggleable__label sk-toggleable__label-arrow\">DecisionTreeRegressor</label><div class=\"sk-toggleable__content\"><pre>DecisionTreeRegressor()</pre></div></div></div></div></div>"
      ],
      "text/plain": [
       "DecisionTreeRegressor()"
      ]
     },
     "execution_count": 24,
     "metadata": {},
     "output_type": "execute_result"
    }
   ],
   "source": [
    "dr.fit(x_train,y_train)"
   ]
  },
  {
   "cell_type": "code",
   "execution_count": 25,
   "id": "4c629ce5",
   "metadata": {},
   "outputs": [
    {
     "name": "stdout",
     "output_type": "stream",
     "text": [
      "tranning score 1.0\n",
      "testing score 0.9870683330707819\n"
     ]
    }
   ],
   "source": [
    "print(\"tranning score\",dr.score(x_train,y_train))\n",
    "print(\"testing score\",dr.score(x_test1,y_test))"
   ]
  },
  {
   "cell_type": "code",
   "execution_count": null,
   "id": "b0a42c73",
   "metadata": {},
   "outputs": [],
   "source": []
  }
 ],
 "metadata": {
  "kernelspec": {
   "display_name": "Python 3 (ipykernel)",
   "language": "python",
   "name": "python3"
  },
  "language_info": {
   "codemirror_mode": {
    "name": "ipython",
    "version": 3
   },
   "file_extension": ".py",
   "mimetype": "text/x-python",
   "name": "python",
   "nbconvert_exporter": "python",
   "pygments_lexer": "ipython3",
   "version": "3.10.4"
  }
 },
 "nbformat": 4,
 "nbformat_minor": 5
}
